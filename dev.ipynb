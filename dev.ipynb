{
 "cells": [
  {
   "cell_type": "code",
   "execution_count": 1,
   "metadata": {},
   "outputs": [],
   "source": [
    "%load_ext autoreload\n",
    "%autoreload 2"
   ]
  },
  {
   "cell_type": "code",
   "execution_count": 2,
   "metadata": {},
   "outputs": [],
   "source": [
    "import torch\n",
    "from idinn.sourcing_model import SingleSourcingModel, DualSourcingModel\n",
    "from idinn.controller import SingleSourcingNeuralController, DualSourcingNeuralController, CappedDualIndexController\n",
    "from torch.utils.tensorboard import SummaryWriter"
   ]
  },
  {
   "cell_type": "code",
   "execution_count": 4,
   "metadata": {},
   "outputs": [
    {
     "data": {
      "text/plain": [
       "tensor(2633050., grad_fn=<AddBackward0>)"
      ]
     },
     "execution_count": 4,
     "metadata": {},
     "output_type": "execute_result"
    }
   ],
   "source": [
    "sourcing_model = SingleSourcingModel(\n",
    "    lead_time=1,\n",
    "    holding_cost=5,\n",
    "    shortage_cost=495,\n",
    "    batch_size=2,\n",
    "    init_inventory=10\n",
    ")\n",
    "controller = SingleSourcingNeuralController(\n",
    "    hidden_layers=[2], activation=torch.nn.CELU(alpha=1)\n",
    ")\n",
    "controller.get_total_cost(sourcing_model, sourcing_periods=100)"
   ]
  },
  {
   "cell_type": "code",
   "execution_count": null,
   "metadata": {},
   "outputs": [],
   "source": [
    "sourcing_model = SingleSourcingModel(\n",
    "    lead_time=2, holding_cost=5, shortage_cost=495, batch_size=32, init_inventory=10\n",
    ")"
   ]
  },
  {
   "cell_type": "code",
   "execution_count": null,
   "metadata": {},
   "outputs": [],
   "source": [
    "controller.train(\n",
    "    sourcing_model=sourcing_model,\n",
    "    sourcing_periods=50,\n",
    "    validation_sourcing_periods=1000,\n",
    "    epochs=5000,\n",
    "    seed=1,\n",
    "    tensorboard_writer=SummaryWriter(),\n",
    ")"
   ]
  },
  {
   "cell_type": "code",
   "execution_count": null,
   "metadata": {},
   "outputs": [],
   "source": [
    "past_inventories, past_orders = controller.simulate(sourcing_model, sourcing_periods=100)"
   ]
  },
  {
   "cell_type": "code",
   "execution_count": null,
   "metadata": {},
   "outputs": [],
   "source": [
    "controller.plot(sourcing_model, sourcing_periods=100)"
   ]
  },
  {
   "cell_type": "code",
   "execution_count": 5,
   "metadata": {},
   "outputs": [],
   "source": [
    "dual_sourcing_model = DualSourcingModel(\n",
    "    regular_lead_time=2,\n",
    "    expedited_lead_time=0,\n",
    "    regular_order_cost=0,\n",
    "    expedited_order_cost=20,\n",
    "    holding_cost=5,\n",
    "    shortage_cost=495,\n",
    "    batch_size=256,\n",
    "    init_inventory=6,\n",
    ")"
   ]
  },
  {
   "cell_type": "code",
   "execution_count": 7,
   "metadata": {},
   "outputs": [
    {
     "data": {
      "text/plain": [
       "tensor([[30.],\n",
       "        [30.],\n",
       "        [30.],\n",
       "        [30.],\n",
       "        [30.],\n",
       "        [30.],\n",
       "        [30.],\n",
       "        [30.],\n",
       "        [30.],\n",
       "        [30.],\n",
       "        [30.],\n",
       "        [30.],\n",
       "        [30.],\n",
       "        [30.],\n",
       "        [30.],\n",
       "        [30.],\n",
       "        [30.],\n",
       "        [30.],\n",
       "        [30.],\n",
       "        [30.],\n",
       "        [30.],\n",
       "        [30.],\n",
       "        [30.],\n",
       "        [30.],\n",
       "        [30.],\n",
       "        [30.],\n",
       "        [30.],\n",
       "        [30.],\n",
       "        [30.],\n",
       "        [30.],\n",
       "        [30.],\n",
       "        [30.],\n",
       "        [30.],\n",
       "        [30.],\n",
       "        [30.],\n",
       "        [30.],\n",
       "        [30.],\n",
       "        [30.],\n",
       "        [30.],\n",
       "        [30.],\n",
       "        [30.],\n",
       "        [30.],\n",
       "        [30.],\n",
       "        [30.],\n",
       "        [30.],\n",
       "        [30.],\n",
       "        [30.],\n",
       "        [30.],\n",
       "        [30.],\n",
       "        [30.],\n",
       "        [30.],\n",
       "        [30.],\n",
       "        [30.],\n",
       "        [30.],\n",
       "        [30.],\n",
       "        [30.],\n",
       "        [30.],\n",
       "        [30.],\n",
       "        [30.],\n",
       "        [30.],\n",
       "        [30.],\n",
       "        [30.],\n",
       "        [30.],\n",
       "        [30.],\n",
       "        [30.],\n",
       "        [30.],\n",
       "        [30.],\n",
       "        [30.],\n",
       "        [30.],\n",
       "        [30.],\n",
       "        [30.],\n",
       "        [30.],\n",
       "        [30.],\n",
       "        [30.],\n",
       "        [30.],\n",
       "        [30.],\n",
       "        [30.],\n",
       "        [30.],\n",
       "        [30.],\n",
       "        [30.],\n",
       "        [30.],\n",
       "        [30.],\n",
       "        [30.],\n",
       "        [30.],\n",
       "        [30.],\n",
       "        [30.],\n",
       "        [30.],\n",
       "        [30.],\n",
       "        [30.],\n",
       "        [30.],\n",
       "        [30.],\n",
       "        [30.],\n",
       "        [30.],\n",
       "        [30.],\n",
       "        [30.],\n",
       "        [30.],\n",
       "        [30.],\n",
       "        [30.],\n",
       "        [30.],\n",
       "        [30.],\n",
       "        [30.],\n",
       "        [30.],\n",
       "        [30.],\n",
       "        [30.],\n",
       "        [30.],\n",
       "        [30.],\n",
       "        [30.],\n",
       "        [30.],\n",
       "        [30.],\n",
       "        [30.],\n",
       "        [30.],\n",
       "        [30.],\n",
       "        [30.],\n",
       "        [30.],\n",
       "        [30.],\n",
       "        [30.],\n",
       "        [30.],\n",
       "        [30.],\n",
       "        [30.],\n",
       "        [30.],\n",
       "        [30.],\n",
       "        [30.],\n",
       "        [30.],\n",
       "        [30.],\n",
       "        [30.],\n",
       "        [30.],\n",
       "        [30.],\n",
       "        [30.],\n",
       "        [30.],\n",
       "        [30.],\n",
       "        [30.],\n",
       "        [30.],\n",
       "        [30.],\n",
       "        [30.],\n",
       "        [30.],\n",
       "        [30.],\n",
       "        [30.],\n",
       "        [30.],\n",
       "        [30.],\n",
       "        [30.],\n",
       "        [30.],\n",
       "        [30.],\n",
       "        [30.],\n",
       "        [30.],\n",
       "        [30.],\n",
       "        [30.],\n",
       "        [30.],\n",
       "        [30.],\n",
       "        [30.],\n",
       "        [30.],\n",
       "        [30.],\n",
       "        [30.],\n",
       "        [30.],\n",
       "        [30.],\n",
       "        [30.],\n",
       "        [30.],\n",
       "        [30.],\n",
       "        [30.],\n",
       "        [30.],\n",
       "        [30.],\n",
       "        [30.],\n",
       "        [30.],\n",
       "        [30.],\n",
       "        [30.],\n",
       "        [30.],\n",
       "        [30.],\n",
       "        [30.],\n",
       "        [30.],\n",
       "        [30.],\n",
       "        [30.],\n",
       "        [30.],\n",
       "        [30.],\n",
       "        [30.],\n",
       "        [30.],\n",
       "        [30.],\n",
       "        [30.],\n",
       "        [30.],\n",
       "        [30.],\n",
       "        [30.],\n",
       "        [30.],\n",
       "        [30.],\n",
       "        [30.],\n",
       "        [30.],\n",
       "        [30.],\n",
       "        [30.],\n",
       "        [30.],\n",
       "        [30.],\n",
       "        [30.],\n",
       "        [30.],\n",
       "        [30.],\n",
       "        [30.],\n",
       "        [30.],\n",
       "        [30.],\n",
       "        [30.],\n",
       "        [30.],\n",
       "        [30.],\n",
       "        [30.],\n",
       "        [30.],\n",
       "        [30.],\n",
       "        [30.],\n",
       "        [30.],\n",
       "        [30.],\n",
       "        [30.],\n",
       "        [30.],\n",
       "        [30.],\n",
       "        [30.],\n",
       "        [30.],\n",
       "        [30.],\n",
       "        [30.],\n",
       "        [30.],\n",
       "        [30.],\n",
       "        [30.],\n",
       "        [30.],\n",
       "        [30.],\n",
       "        [30.],\n",
       "        [30.],\n",
       "        [30.],\n",
       "        [30.],\n",
       "        [30.],\n",
       "        [30.],\n",
       "        [30.],\n",
       "        [30.],\n",
       "        [30.],\n",
       "        [30.],\n",
       "        [30.],\n",
       "        [30.],\n",
       "        [30.],\n",
       "        [30.],\n",
       "        [30.],\n",
       "        [30.],\n",
       "        [30.],\n",
       "        [30.],\n",
       "        [30.],\n",
       "        [30.],\n",
       "        [30.],\n",
       "        [30.],\n",
       "        [30.],\n",
       "        [30.],\n",
       "        [30.],\n",
       "        [30.],\n",
       "        [30.],\n",
       "        [30.],\n",
       "        [30.],\n",
       "        [30.],\n",
       "        [30.],\n",
       "        [30.],\n",
       "        [30.],\n",
       "        [30.],\n",
       "        [30.],\n",
       "        [30.],\n",
       "        [30.],\n",
       "        [30.],\n",
       "        [30.],\n",
       "        [30.],\n",
       "        [30.],\n",
       "        [30.]], grad_fn=<AddBackward0>)"
      ]
     },
     "execution_count": 7,
     "metadata": {},
     "output_type": "execute_result"
    }
   ],
   "source": [
    "dual_sourcing_model.get_cost(0, 0)"
   ]
  },
  {
   "cell_type": "code",
   "execution_count": null,
   "metadata": {},
   "outputs": [],
   "source": [
    "dual_controller = DualSourcingNeuralController(\n",
    "    hidden_layers=[128, 64, 32, 16, 8, 4],\n",
    "    activation=torch.nn.CELU(alpha=1),\n",
    "    compressed=False,\n",
    ")\n",
    "\n",
    "dual_controller.train(\n",
    "    sourcing_model=dual_sourcing_model,\n",
    "    sourcing_periods=100,\n",
    "    validation_sourcing_periods=1000,\n",
    "    epochs=2000,\n",
    "    tensorboard_writer=SummaryWriter(\"runs/dual_sourcing_model\"),\n",
    "    seed=4,\n",
    ")"
   ]
  },
  {
   "cell_type": "code",
   "execution_count": null,
   "metadata": {},
   "outputs": [],
   "source": [
    "controller.plot(sourcing_model=dual_sourcing_model, sourcing_periods=100)"
   ]
  },
  {
   "cell_type": "code",
   "execution_count": 3,
   "metadata": {},
   "outputs": [
    {
     "data": {
      "text/plain": [
       "(0, 0)"
      ]
     },
     "execution_count": 3,
     "metadata": {},
     "output_type": "execute_result"
    }
   ],
   "source": [
    "dual_sourcing_model = DualSourcingModel(\n",
    "    regular_lead_time=2,\n",
    "    expedited_lead_time=0,\n",
    "    regular_order_cost=0,\n",
    "    expedited_order_cost=20,\n",
    "    holding_cost=5,\n",
    "    shortage_cost=495,\n",
    "    init_inventory=6,\n",
    ")\n",
    "\n",
    "controller = CappedDualIndexController()\n",
    "controller.forward(\n",
    "    current_inventory=dual_sourcing_model.get_current_inventory(),\n",
    "    past_regular_orders=dual_sourcing_model.get_past_regular_orders(),\n",
    "    past_expedited_orders=dual_sourcing_model.get_past_expedited_orders(),\n",
    "    regular_lead_time=2,\n",
    "    expedited_lead_time=0,\n",
    ")"
   ]
  },
  {
   "cell_type": "code",
   "execution_count": 6,
   "metadata": {},
   "outputs": [
    {
     "data": {
      "text/plain": [
       "tensor([[2305.]], grad_fn=<AddBackward0>)"
      ]
     },
     "execution_count": 6,
     "metadata": {},
     "output_type": "execute_result"
    }
   ],
   "source": [
    "controller.get_total_cost(\n",
    "    sourcing_model=dual_sourcing_model,\n",
    "    sourcing_periods=100,\n",
    ")"
   ]
  },
  {
   "cell_type": "code",
   "execution_count": 5,
   "metadata": {},
   "outputs": [],
   "source": [
    "controller.train(\n",
    "    sourcing_model=dual_sourcing_model,\n",
    "    sourcing_periods=100,\n",
    ")"
   ]
  },
  {
   "cell_type": "code",
   "execution_count": 7,
   "metadata": {},
   "outputs": [
    {
     "data": {
      "image/png": "[encoded data removed]",
      "text/plain": [
       "<Figure size 1000x400 with 2 Axes>"
      ]
     },
     "metadata": {},
     "output_type": "display_data"
    }
   ],
   "source": [
    "controller.plot(\n",
    "    sourcing_model=dual_sourcing_model,\n",
    "    sourcing_periods=100,\n",
    ")"
   ]
  }
 ],
 "metadata": {
  "kernelspec": {
   "display_name": "Python 3",
   "language": "python",
   "name": "python3"
  },
  "language_info": {
   "codemirror_mode": {
    "name": "ipython",
    "version": 3
   },
   "file_extension": ".py",
   "mimetype": "text/x-python",
   "name": "python",
   "nbconvert_exporter": "python",
   "pygments_lexer": "ipython3",
   "version": "3.11.7"
  }
 },
 "nbformat": 4,
 "nbformat_minor": 2
}
